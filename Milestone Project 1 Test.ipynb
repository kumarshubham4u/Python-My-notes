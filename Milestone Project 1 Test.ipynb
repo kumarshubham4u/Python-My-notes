{
 "cells": [
  {
   "cell_type": "code",
   "execution_count": 2,
   "metadata": {},
   "outputs": [],
   "source": [
    "game_list=[0,1,2]"
   ]
  },
  {
   "cell_type": "code",
   "execution_count": 3,
   "metadata": {},
   "outputs": [],
   "source": [
    "def display_gamelist(game_list):\n",
    "    print(\"The Current game list is: \")\n",
    "    print(game_list)"
   ]
  },
  {
   "cell_type": "code",
   "execution_count": 4,
   "metadata": {},
   "outputs": [
    {
     "data": {
      "text/plain": [
       "[0, 1, 2]"
      ]
     },
     "metadata": {},
     "output_type": "display_data"
    }
   ],
   "source": [
    "display(game_list)"
   ]
  },
  {
   "cell_type": "code",
   "execution_count": 12,
   "metadata": {},
   "outputs": [],
   "source": [
    "def position_choice():\n",
    "    \n",
    "    choice=''\n",
    "    \n",
    "    while choice not in [0,1,2]:\n",
    "        \n",
    "        choice= int(input('Please enter your choice of position (0,1,2) : '))\n",
    "        \n",
    "        if choice not in [0,1,2]:\n",
    "            print('Invalid choice!!')\n",
    "    return choice"
   ]
  },
  {
   "cell_type": "code",
   "execution_count": 14,
   "metadata": {},
   "outputs": [
    {
     "name": "stdout",
     "output_type": "stream",
     "text": [
      "Please enter your choice of position (0,1,2) : 5\n",
      "Invalid choice!!\n",
      "Please enter your choice of position (0,1,2) : 2\n"
     ]
    },
    {
     "data": {
      "text/plain": [
       "2"
      ]
     },
     "execution_count": 14,
     "metadata": {},
     "output_type": "execute_result"
    }
   ],
   "source": [
    "position_choice()"
   ]
  },
  {
   "cell_type": "code",
   "execution_count": 7,
   "metadata": {},
   "outputs": [],
   "source": [
    "def replacement_choice(game_list,position):\n",
    "    \n",
    "    replacement = input('Select the string to be replaced in the position: ')\n",
    "    game_list[position]= replacement\n",
    "    \n",
    "    return game_list\n",
    "    "
   ]
  },
  {
   "cell_type": "code",
   "execution_count": 8,
   "metadata": {},
   "outputs": [
    {
     "name": "stdout",
     "output_type": "stream",
     "text": [
      "Select the string to be replaced in the position: dd\n"
     ]
    },
    {
     "data": {
      "text/plain": [
       "[0, 1, 'dd']"
      ]
     },
     "execution_count": 8,
     "metadata": {},
     "output_type": "execute_result"
    }
   ],
   "source": [
    "replacement_choice(game_list,2)"
   ]
  },
  {
   "cell_type": "code",
   "execution_count": 15,
   "metadata": {},
   "outputs": [],
   "source": [
    "def game_on():\n",
    "    \n",
    "    choice = ''\n",
    "    \n",
    "    while choice not in ['Y','N']:\n",
    "        \n",
    "        choice = input('You wish to continue playing (Y or N)? : ')\n",
    "        \n",
    "        if choice not in ['Y','N']:\n",
    "            print('Invalid choice!!')\n",
    "    if choice=='Y':\n",
    "        return True\n",
    "    else:\n",
    "        return False"
   ]
  },
  {
   "cell_type": "markdown",
   "metadata": {},
   "source": [
    "# GAME"
   ]
  },
  {
   "cell_type": "code",
   "execution_count": 11,
   "metadata": {},
   "outputs": [
    {
     "name": "stdout",
     "output_type": "stream",
     "text": [
      "The Current game list is: \n",
      "[0, 1, 2]\n",
      "Please enter your choice of position (0,1,2) : 0\n",
      "Select the string to be replaced in the position: Shubham\n",
      "The Current game list is: \n",
      "['Shubham', 1, 2]\n",
      "You wish to continue playing (Y or N)? : Y\n",
      "The Current game list is: \n",
      "['Shubham', 1, 2]\n",
      "Please enter your choice of position (0,1,2) : 2\n",
      "Select the string to be replaced in the position: Manya\n",
      "The Current game list is: \n",
      "['Shubham', 1, 'Manya']\n",
      "You wish to continue playing (Y or N)? : N\n"
     ]
    }
   ],
   "source": [
    "game = True\n",
    "game_list=[0,1,2]\n",
    "\n",
    "while game==True:\n",
    "    \n",
    "    display_gamelist(game_list)\n",
    "    position = position_choice()\n",
    "    game_list=replacement_choice(game_list,position)\n",
    "    display_gamelist(game_list)\n",
    "    game=game_on()\n",
    "    \n",
    "    "
   ]
  },
  {
   "cell_type": "code",
   "execution_count": null,
   "metadata": {},
   "outputs": [],
   "source": []
  }
 ],
 "metadata": {
  "kernelspec": {
   "display_name": "Python 3",
   "language": "python",
   "name": "python3"
  },
  "language_info": {
   "codemirror_mode": {
    "name": "ipython",
    "version": 3
   },
   "file_extension": ".py",
   "mimetype": "text/x-python",
   "name": "python",
   "nbconvert_exporter": "python",
   "pygments_lexer": "ipython3",
   "version": "3.7.4"
  }
 },
 "nbformat": 4,
 "nbformat_minor": 2
}
