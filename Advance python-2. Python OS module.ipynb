{
 "cells": [
  {
   "cell_type": "code",
   "execution_count": 1,
   "metadata": {},
   "outputs": [
    {
     "data": {
      "text/plain": [
       "'C:\\\\Users\\\\kshubham'"
      ]
     },
     "execution_count": 1,
     "metadata": {},
     "output_type": "execute_result"
    }
   ],
   "source": [
    "pwd"
   ]
  },
  {
   "cell_type": "code",
   "execution_count": 2,
   "metadata": {},
   "outputs": [],
   "source": [
    "import os"
   ]
  },
  {
   "cell_type": "code",
   "execution_count": 4,
   "metadata": {},
   "outputs": [
    {
     "data": {
      "text/plain": [
       "'C:\\\\Users\\\\kshubham'"
      ]
     },
     "execution_count": 4,
     "metadata": {},
     "output_type": "execute_result"
    }
   ],
   "source": [
    "os.getcwd()"
   ]
  },
  {
   "cell_type": "code",
   "execution_count": 6,
   "metadata": {},
   "outputs": [
    {
     "data": {
      "text/plain": [
       "['.anaconda',\n",
       " '.cisco',\n",
       " '.conda',\n",
       " '.condarc',\n",
       " '.eclipse',\n",
       " '.ipynb_checkpoints',\n",
       " '.ipython',\n",
       " '.jupyter',\n",
       " '.nuget',\n",
       " '.p2',\n",
       " '.tooling',\n",
       " '02-Iterators and Generators Homework.ipynb',\n",
       " '02-Object Oriented Programming Homework.ipynb',\n",
       " '03-Errors and Exceptions Homework - Solution.ipynb',\n",
       " '03-Function Practice Exercises.ipynb',\n",
       " '03-Iterators and Generators Homework - Solution.ipynb',\n",
       " '03-Milestone Project 1 - Complete Walkthrough Solution.ipynb',\n",
       " '04-Function Practice Exercises - Solutions.ipynb',\n",
       " '05-OOP Challenge - Solution.ipynb',\n",
       " '07-Statements Assessment Test.ipynb',\n",
       " '08-Statements Assessment Test - Solutions.ipynb',\n",
       " '09-Objects and Data Structures Assessment Test.ipynb',\n",
       " '10-Objects and Data Structures Assessment Test-Solution.ipynb',\n",
       " '3D Objects',\n",
       " '55-Lambda-Expressions-Map-and-Filter.ipynb',\n",
       " '55. Shubham_Lambda Expressions Map & Filter.ipynb',\n",
       " '56-Nested Statements and Scope (LEGB rule).ipynb',\n",
       " '57-Functions and Methods Homework - Solutions.ipynb',\n",
       " '57-Functions and Methods Homework.ipynb',\n",
       " '6. Methods and Functions.ipynb',\n",
       " '70.Object Oriented Programming Python.ipynb',\n",
       " '80. Error and Exception.ipynb',\n",
       " 'Advance python- 1.Collection Module.ipynb',\n",
       " 'Advance python-2. Python OS module.ipynb',\n",
       " 'AppData',\n",
       " 'Application Data',\n",
       " 'Cookies',\n",
       " 'Desktop',\n",
       " 'Dictionaries.ipynb',\n",
       " 'Documents',\n",
       " 'Downloads',\n",
       " 'Favorites',\n",
       " 'IntelGraphicsProfiles',\n",
       " 'io with basic file.ipynb',\n",
       " 'java',\n",
       " 'Links',\n",
       " 'Local Settings',\n",
       " 'Milestone Project 1 Test.ipynb',\n",
       " 'Music',\n",
       " 'My Documents',\n",
       " 'myfile.txt',\n",
       " 'myFirstNotebook.ipynb',\n",
       " 'my_new_file.txt',\n",
       " 'NetHood',\n",
       " 'NTUSER.DAT',\n",
       " 'ntuser.dat.LOG1',\n",
       " 'ntuser.dat.LOG2',\n",
       " 'NTUSER.DAT{57efbb9f-a9d4-11e9-ad41-005056c00002}.TM.blf',\n",
       " 'NTUSER.DAT{57efbb9f-a9d4-11e9-ad41-005056c00002}.TMContainer00000000000000000001.regtrans-ms',\n",
       " 'NTUSER.DAT{57efbb9f-a9d4-11e9-ad41-005056c00002}.TMContainer00000000000000000002.regtrans-ms',\n",
       " 'ntuser.ini',\n",
       " 'ntuser.pol',\n",
       " 'OneDrive',\n",
       " 'Pictures',\n",
       " 'PrintHood',\n",
       " 'python statements.ipynb',\n",
       " 'Recent',\n",
       " 'Roaming',\n",
       " 'Saved Games',\n",
       " 'screenshot.png',\n",
       " 'SendTo',\n",
       " 'Shubham Errors and Exceptions Homework.ipynb',\n",
       " 'Shubham OOP Challenge Solution.ipynb',\n",
       " 'shubham.txt',\n",
       " 'Start Menu',\n",
       " 'Templates',\n",
       " 'textfile',\n",
       " 'Tuples,Sets and Boolean.ipynb',\n",
       " 'Untitled Folder',\n",
       " 'Videos']"
      ]
     },
     "execution_count": 6,
     "metadata": {},
     "output_type": "execute_result"
    }
   ],
   "source": [
    "os.listdir()"
   ]
  },
  {
   "cell_type": "code",
   "execution_count": 8,
   "metadata": {},
   "outputs": [
    {
     "data": {
      "text/plain": [
       "['adm-in-agowlla',\n",
       " 'adm-in-saboggar',\n",
       " 'Administrator',\n",
       " 'All Users',\n",
       " 'deepans',\n",
       " 'Default',\n",
       " 'Default User',\n",
       " 'DefaultAppPool',\n",
       " 'desktop.ini',\n",
       " 'HiveStreamingService',\n",
       " 'kshubham',\n",
       " 'nsingh46',\n",
       " 'Public',\n",
       " 'rafiksha',\n",
       " 'sacdubey',\n",
       " 'skuma566',\n",
       " 'SVC-IN-SMS',\n",
       " 'SVC-IN-SMS1']"
      ]
     },
     "execution_count": 8,
     "metadata": {},
     "output_type": "execute_result"
    }
   ],
   "source": [
    "os.listdir('C:\\\\Users')"
   ]
  },
  {
   "cell_type": "markdown",
   "metadata": {},
   "source": [
    "# Move a file"
   ]
  },
  {
   "cell_type": "code",
   "execution_count": 9,
   "metadata": {},
   "outputs": [],
   "source": [
    "f = open('practice.txt','w+')\n",
    "f.write('test')\n",
    "f.close()"
   ]
  },
  {
   "cell_type": "code",
   "execution_count": 11,
   "metadata": {},
   "outputs": [
    {
     "data": {
      "text/plain": [
       "['.anaconda',\n",
       " '.cisco',\n",
       " '.conda',\n",
       " '.condarc',\n",
       " '.eclipse',\n",
       " '.ipynb_checkpoints',\n",
       " '.ipython',\n",
       " '.jupyter',\n",
       " '.nuget',\n",
       " '.p2',\n",
       " '.tooling',\n",
       " '02-Iterators and Generators Homework.ipynb',\n",
       " '02-Object Oriented Programming Homework.ipynb',\n",
       " '03-Errors and Exceptions Homework - Solution.ipynb',\n",
       " '03-Function Practice Exercises.ipynb',\n",
       " '03-Iterators and Generators Homework - Solution.ipynb',\n",
       " '03-Milestone Project 1 - Complete Walkthrough Solution.ipynb',\n",
       " '04-Function Practice Exercises - Solutions.ipynb',\n",
       " '05-OOP Challenge - Solution.ipynb',\n",
       " '07-Statements Assessment Test.ipynb',\n",
       " '08-Statements Assessment Test - Solutions.ipynb',\n",
       " '09-Objects and Data Structures Assessment Test.ipynb',\n",
       " '10-Objects and Data Structures Assessment Test-Solution.ipynb',\n",
       " '3D Objects',\n",
       " '55-Lambda-Expressions-Map-and-Filter.ipynb',\n",
       " '55. Shubham_Lambda Expressions Map & Filter.ipynb',\n",
       " '56-Nested Statements and Scope (LEGB rule).ipynb',\n",
       " '57-Functions and Methods Homework - Solutions.ipynb',\n",
       " '57-Functions and Methods Homework.ipynb',\n",
       " '6. Methods and Functions.ipynb',\n",
       " '70.Object Oriented Programming Python.ipynb',\n",
       " '80. Error and Exception.ipynb',\n",
       " 'Advance python- 1.Collection Module.ipynb',\n",
       " 'Advance python-2. Python OS module.ipynb',\n",
       " 'AppData',\n",
       " 'Application Data',\n",
       " 'Cookies',\n",
       " 'Desktop',\n",
       " 'Dictionaries.ipynb',\n",
       " 'Documents',\n",
       " 'Downloads',\n",
       " 'Favorites',\n",
       " 'IntelGraphicsProfiles',\n",
       " 'io with basic file.ipynb',\n",
       " 'java',\n",
       " 'Links',\n",
       " 'Local Settings',\n",
       " 'Milestone Project 1 Test.ipynb',\n",
       " 'Music',\n",
       " 'My Documents',\n",
       " 'myfile.txt',\n",
       " 'myFirstNotebook.ipynb',\n",
       " 'my_new_file.txt',\n",
       " 'NetHood',\n",
       " 'NTUSER.DAT',\n",
       " 'ntuser.dat.LOG1',\n",
       " 'ntuser.dat.LOG2',\n",
       " 'NTUSER.DAT{57efbb9f-a9d4-11e9-ad41-005056c00002}.TM.blf',\n",
       " 'NTUSER.DAT{57efbb9f-a9d4-11e9-ad41-005056c00002}.TMContainer00000000000000000001.regtrans-ms',\n",
       " 'NTUSER.DAT{57efbb9f-a9d4-11e9-ad41-005056c00002}.TMContainer00000000000000000002.regtrans-ms',\n",
       " 'ntuser.ini',\n",
       " 'ntuser.pol',\n",
       " 'OneDrive',\n",
       " 'Pictures',\n",
       " 'practice.txt',\n",
       " 'PrintHood',\n",
       " 'python statements.ipynb',\n",
       " 'Recent',\n",
       " 'Roaming',\n",
       " 'Saved Games',\n",
       " 'screenshot.png',\n",
       " 'SendTo',\n",
       " 'Shubham Errors and Exceptions Homework.ipynb',\n",
       " 'Shubham OOP Challenge Solution.ipynb',\n",
       " 'shubham.txt',\n",
       " 'Start Menu',\n",
       " 'Templates',\n",
       " 'textfile',\n",
       " 'Tuples,Sets and Boolean.ipynb',\n",
       " 'Untitled Folder',\n",
       " 'Videos']"
      ]
     },
     "execution_count": 11,
     "metadata": {},
     "output_type": "execute_result"
    }
   ],
   "source": [
    "os.listdir()"
   ]
  },
  {
   "cell_type": "code",
   "execution_count": 12,
   "metadata": {},
   "outputs": [],
   "source": [
    "import shutil"
   ]
  },
  {
   "cell_type": "code",
   "execution_count": 13,
   "metadata": {},
   "outputs": [
    {
     "data": {
      "text/plain": [
       "'C:\\\\Users\\\\practice.txt'"
      ]
     },
     "execution_count": 13,
     "metadata": {},
     "output_type": "execute_result"
    }
   ],
   "source": [
    "shutil.move('practice.txt','C:\\\\Users')"
   ]
  },
  {
   "cell_type": "code",
   "execution_count": 14,
   "metadata": {},
   "outputs": [
    {
     "data": {
      "text/plain": [
       "'C:\\\\Users\\\\kshubham\\\\practice.txt'"
      ]
     },
     "execution_count": 14,
     "metadata": {},
     "output_type": "execute_result"
    }
   ],
   "source": [
    "shutil.move('C:\\\\Users\\\\practice.txt',os.getcwd())"
   ]
  },
  {
   "cell_type": "markdown",
   "metadata": {},
   "source": [
    "# Deleting a file"
   ]
  },
  {
   "cell_type": "code",
   "execution_count": 15,
   "metadata": {},
   "outputs": [],
   "source": [
    "import send2trash"
   ]
  },
  {
   "cell_type": "code",
   "execution_count": 17,
   "metadata": {},
   "outputs": [],
   "source": [
    "send2trash.send2trash('practice.txt') #deleted"
   ]
  },
  {
   "cell_type": "code",
   "execution_count": 18,
   "metadata": {},
   "outputs": [
    {
     "data": {
      "text/plain": [
       "['.anaconda',\n",
       " '.cisco',\n",
       " '.conda',\n",
       " '.condarc',\n",
       " '.eclipse',\n",
       " '.ipynb_checkpoints',\n",
       " '.ipython',\n",
       " '.jupyter',\n",
       " '.nuget',\n",
       " '.p2',\n",
       " '.tooling',\n",
       " '02-Iterators and Generators Homework.ipynb',\n",
       " '02-Object Oriented Programming Homework.ipynb',\n",
       " '03-Errors and Exceptions Homework - Solution.ipynb',\n",
       " '03-Function Practice Exercises.ipynb',\n",
       " '03-Iterators and Generators Homework - Solution.ipynb',\n",
       " '03-Milestone Project 1 - Complete Walkthrough Solution.ipynb',\n",
       " '04-Function Practice Exercises - Solutions.ipynb',\n",
       " '05-OOP Challenge - Solution.ipynb',\n",
       " '07-Statements Assessment Test.ipynb',\n",
       " '08-Statements Assessment Test - Solutions.ipynb',\n",
       " '09-Objects and Data Structures Assessment Test.ipynb',\n",
       " '10-Objects and Data Structures Assessment Test-Solution.ipynb',\n",
       " '3D Objects',\n",
       " '55-Lambda-Expressions-Map-and-Filter.ipynb',\n",
       " '55. Shubham_Lambda Expressions Map & Filter.ipynb',\n",
       " '56-Nested Statements and Scope (LEGB rule).ipynb',\n",
       " '57-Functions and Methods Homework - Solutions.ipynb',\n",
       " '57-Functions and Methods Homework.ipynb',\n",
       " '6. Methods and Functions.ipynb',\n",
       " '70.Object Oriented Programming Python.ipynb',\n",
       " '80. Error and Exception.ipynb',\n",
       " 'Advance python- 1.Collection Module.ipynb',\n",
       " 'Advance python-2. Python OS module.ipynb',\n",
       " 'AppData',\n",
       " 'Application Data',\n",
       " 'Cookies',\n",
       " 'Desktop',\n",
       " 'Dictionaries.ipynb',\n",
       " 'Documents',\n",
       " 'Downloads',\n",
       " 'Favorites',\n",
       " 'IntelGraphicsProfiles',\n",
       " 'io with basic file.ipynb',\n",
       " 'java',\n",
       " 'Links',\n",
       " 'Local Settings',\n",
       " 'Milestone Project 1 Test.ipynb',\n",
       " 'Music',\n",
       " 'My Documents',\n",
       " 'myfile.txt',\n",
       " 'myFirstNotebook.ipynb',\n",
       " 'my_new_file.txt',\n",
       " 'NetHood',\n",
       " 'NTUSER.DAT',\n",
       " 'ntuser.dat.LOG1',\n",
       " 'ntuser.dat.LOG2',\n",
       " 'NTUSER.DAT{57efbb9f-a9d4-11e9-ad41-005056c00002}.TM.blf',\n",
       " 'NTUSER.DAT{57efbb9f-a9d4-11e9-ad41-005056c00002}.TMContainer00000000000000000001.regtrans-ms',\n",
       " 'NTUSER.DAT{57efbb9f-a9d4-11e9-ad41-005056c00002}.TMContainer00000000000000000002.regtrans-ms',\n",
       " 'ntuser.ini',\n",
       " 'ntuser.pol',\n",
       " 'OneDrive',\n",
       " 'Pictures',\n",
       " 'PrintHood',\n",
       " 'python statements.ipynb',\n",
       " 'Recent',\n",
       " 'Roaming',\n",
       " 'Saved Games',\n",
       " 'screenshot.png',\n",
       " 'SendTo',\n",
       " 'Shubham Errors and Exceptions Homework.ipynb',\n",
       " 'Shubham OOP Challenge Solution.ipynb',\n",
       " 'shubham.txt',\n",
       " 'Start Menu',\n",
       " 'Templates',\n",
       " 'textfile',\n",
       " 'Tuples,Sets and Boolean.ipynb',\n",
       " 'Untitled Folder',\n",
       " 'Videos']"
      ]
     },
     "execution_count": 18,
     "metadata": {},
     "output_type": "execute_result"
    }
   ],
   "source": [
    "os.listdir()"
   ]
  },
  {
   "cell_type": "code",
   "execution_count": null,
   "metadata": {},
   "outputs": [],
   "source": []
  }
 ],
 "metadata": {
  "kernelspec": {
   "display_name": "Python 3",
   "language": "python",
   "name": "python3"
  },
  "language_info": {
   "codemirror_mode": {
    "name": "ipython",
    "version": 3
   },
   "file_extension": ".py",
   "mimetype": "text/x-python",
   "name": "python",
   "nbconvert_exporter": "python",
   "pygments_lexer": "ipython3",
   "version": "3.7.4"
  }
 },
 "nbformat": 4,
 "nbformat_minor": 2
}
