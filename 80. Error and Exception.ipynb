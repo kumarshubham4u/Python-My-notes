{
 "cells": [
  {
   "cell_type": "code",
   "execution_count": 2,
   "metadata": {},
   "outputs": [
    {
     "name": "stdout",
     "output_type": "stream",
     "text": [
      "File is written\n"
     ]
    }
   ],
   "source": [
    "try:\n",
    "    f=open('textfile','w')\n",
    "    f.write('Hi, My name is Shubham')\n",
    "\n",
    "except IOError:\n",
    "    print('IOError type has occured. Cannot execute!')\n",
    "else:\n",
    "    print('File is written')\n",
    "    f.close()"
   ]
  },
  {
   "cell_type": "code",
   "execution_count": 3,
   "metadata": {},
   "outputs": [
    {
     "name": "stdout",
     "output_type": "stream",
     "text": [
      "IOError type has occured. Cannot execute!\n"
     ]
    }
   ],
   "source": [
    "try:\n",
    "    f=open('textfile','r')\n",
    "    f.write('Hi, My name is Shubham')\n",
    "\n",
    "except IOError:\n",
    "    print('IOError type has occured. Cannot execute!')\n",
    "else:\n",
    "    print('File is written')\n",
    "    f.close()"
   ]
  },
  {
   "cell_type": "code",
   "execution_count": 5,
   "metadata": {},
   "outputs": [
    {
     "name": "stdout",
     "output_type": "stream",
     "text": [
      "IOError type has occured. Cannot execute!\n"
     ]
    }
   ],
   "source": [
    "try:\n",
    "    f=open('textfile','r')\n",
    "    f.write('Hi, My name is Shubham')\n",
    "\n",
    "except:\n",
    "    print('IOError type has occured. Cannot execute!')\n",
    "else:\n",
    "    print('File is written')\n",
    "    f.close()"
   ]
  },
  {
   "cell_type": "code",
   "execution_count": 6,
   "metadata": {},
   "outputs": [],
   "source": [
    "#Example 2"
   ]
  },
  {
   "cell_type": "code",
   "execution_count": 8,
   "metadata": {},
   "outputs": [],
   "source": [
    "def askint():\n",
    "    \n",
    "    try:\n",
    "        val=int(input(\"Enter an integer value: \"))\n",
    "    except:\n",
    "        print('Invalid entry!')\n",
    "    else:\n",
    "        print('Operation successful')\n",
    "        print(f'Integer entered: {val}')\n",
    "    finally:\n",
    "        print('Thank you!!')\n",
    "    "
   ]
  },
  {
   "cell_type": "code",
   "execution_count": 2,
   "metadata": {},
   "outputs": [
    {
     "name": "stdout",
     "output_type": "stream",
     "text": [
      "Enter an integer value: six\n",
      "Invalid entry!\n",
      "Thank you!!\n"
     ]
    }
   ],
   "source": [
    "askint()"
   ]
  },
  {
   "cell_type": "code",
   "execution_count": 3,
   "metadata": {},
   "outputs": [
    {
     "name": "stdout",
     "output_type": "stream",
     "text": [
      "Enter an integer value: 6\n",
      "Operation successful\n",
      "Integer entered: 6\n",
      "Thank you!!\n"
     ]
    }
   ],
   "source": [
    "askint()"
   ]
  },
  {
   "cell_type": "code",
   "execution_count": 11,
   "metadata": {},
   "outputs": [],
   "source": [
    "#We can also use while loop for better use of the above code\n",
    "def askint():\n",
    "    \n",
    "    while True:\n",
    "        \n",
    "        \n",
    "        try:\n",
    "            val=int(input(\"Enter an integer value: \"))\n",
    "        \n",
    "        except:\n",
    "            print('Invalid entry!')\n",
    "            continue\n",
    "        else:\n",
    "            print('Operation successful')\n",
    "            print(f'Integer entered: {val}')\n",
    "            break\n",
    "        finally:\n",
    "            print('Thank you!!')\n",
    "\n",
    "    \n",
    "    "
   ]
  },
  {
   "cell_type": "code",
   "execution_count": 12,
   "metadata": {},
   "outputs": [
    {
     "name": "stdout",
     "output_type": "stream",
     "text": [
      "Enter an integer value: six\n",
      "Invalid entry!\n",
      "Thank you!!\n",
      "Enter an integer value: five\n",
      "Invalid entry!\n",
      "Thank you!!\n",
      "Enter an integer value: 5\n",
      "Operation successful\n",
      "Integer entered: 5\n",
      "Thank you!!\n"
     ]
    }
   ],
   "source": [
    "askint()"
   ]
  },
  {
   "cell_type": "code",
   "execution_count": null,
   "metadata": {},
   "outputs": [],
   "source": []
  },
  {
   "cell_type": "code",
   "execution_count": null,
   "metadata": {},
   "outputs": [],
   "source": []
  }
 ],
 "metadata": {
  "kernelspec": {
   "display_name": "Python 3",
   "language": "python",
   "name": "python3"
  },
  "language_info": {
   "codemirror_mode": {
    "name": "ipython",
    "version": 3
   },
   "file_extension": ".py",
   "mimetype": "text/x-python",
   "name": "python",
   "nbconvert_exporter": "python",
   "pygments_lexer": "ipython3",
   "version": "3.7.4"
  }
 },
 "nbformat": 4,
 "nbformat_minor": 2
}
